{
 "cells": [
  {
   "cell_type": "code",
   "execution_count": 5,
   "metadata": {},
   "outputs": [
    {
     "name": "stderr",
     "output_type": "stream",
     "text": [
      "Found cached dataset banking77 (/Users/tiffany/.cache/huggingface/datasets/PolyAI___banking77/default/1.1.0/aec0289529599d4572d76ab00c8944cb84f88410ad0c9e7da26189d31f62a55b)\n"
     ]
    },
    {
     "data": {
      "application/vnd.jupyter.widget-view+json": {
       "model_id": "2a00876afac04c04a18a9d1c3146e8fe",
       "version_major": 2,
       "version_minor": 0
      },
      "text/plain": [
       "  0%|          | 0/2 [00:00<?, ?it/s]"
      ]
     },
     "metadata": {},
     "output_type": "display_data"
    }
   ],
   "source": [
    "import pandas as pd\n",
    "from datasets import load_dataset\n",
    "from transformers import pipeline\n",
    "\n",
    "dataset = load_dataset(\"PolyAI/banking77\")\n",
    "df = pd.DataFrame(dataset['train'])\n",
    "df.to_csv('train.csv', index=False)\n",
    "df_test = pd.DataFrame(dataset['test'])\n",
    "df.to_csv('test.csv', index = False)"
   ]
  },
  {
   "cell_type": "code",
   "execution_count": 6,
   "metadata": {},
   "outputs": [],
   "source": [
    "\n",
    "def read_sentences_from_csv(file_path, column_name='text'):\n",
    "    df = pd.read_csv(file_path)\n",
    "    sentences = df[column_name].tolist()\n",
    "    return sentences\n",
    "\n",
    "def save_results_to_csv(sentences, results, output_file_path):\n",
    "    df_results = pd.DataFrame({\n",
    "        'sentence': sentences,\n",
    "        'sentiment_label': [result['label'] for result in results],\n",
    "        'sentiment_score': [result['score'] for result in results]\n",
    "    })\n",
    "    df_results.to_csv(output_file_path, index=False, encoding='utf-8')\n",
    "\n",
    "# read_sentences_from_csv(\"banking77.csv\")"
   ]
  },
  {
   "cell_type": "code",
   "execution_count": 7,
   "metadata": {},
   "outputs": [],
   "source": [
    "#class MarioThePlumber(TextClassificationPipeline):\n",
    "    #def postprocess(self, model_outputs):\n",
    "        #best_class = model_outputs[\"logits\"]\n",
    "        #return best_class"
   ]
  },
  {
   "cell_type": "code",
   "execution_count": 8,
   "metadata": {},
   "outputs": [],
   "source": [
    "# Load the BERT sentiment analysis pipeline\n",
    "classifier = pipeline('sentiment-analysis', model='nlptown/bert-base-multilingual-uncased-sentiment')\n",
    "\n",
    "# Read sentences from the CSV file\n",
    "sentences = read_sentences_from_csv(\"train.csv\", column_name='text')\n",
    "\n",
    "# Batch inference using the pipeline\n",
    "results = classifier(sentences)\n",
    "\n",
    "# Save results to CSV file\n",
    "output_csv_file_path = 'output.csv'\n",
    "save_results_to_csv(sentences, results, output_csv_file_path)\n",
    "\n",
    "# Print the results\n",
    "for sentence, result in zip(sentences, results):\n",
    "    print(f\"Sentence: {sentence}\")\n",
    "    print(f\"Sentiment: {result['label']} (confidence: {result['score']:.4f})\")\n",
    "    print()\n",
    "print(f\"Inference results saved to: {output_csv_file_path}\")"
   ]
  }
 ],
 "metadata": {
  "kernelspec": {
   "display_name": "base",
   "language": "python",
   "name": "python3"
  },
  "language_info": {
   "codemirror_mode": {
    "name": "ipython",
    "version": 3
   },
   "file_extension": ".py",
   "mimetype": "text/x-python",
   "name": "python",
   "nbconvert_exporter": "python",
   "pygments_lexer": "ipython3",
   "version": "3.11.5"
  }
 },
 "nbformat": 4,
 "nbformat_minor": 2
}
